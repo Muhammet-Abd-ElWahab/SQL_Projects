{
 "cells": [
  {
   "cell_type": "markdown",
   "id": "be38f73c",
   "metadata": {},
   "source": [
    "# Project: Chinook_music_store_SQL_database_investigation."
   ]
  },
  {
   "cell_type": "markdown",
   "id": "e94f2d72",
   "metadata": {},
   "source": [
    "## Database ERD\n",
    "\n",
    "\n",
    "<p><img src=\"https://raw.githubusercontent.com/Muhammet-Abd-ElWahab/Chinook_Music_Store_SQL_Database_Investigation/main/ERD.png\" alt=\"ERD\"></p>"
   ]
  },
  {
   "cell_type": "markdown",
   "id": "f6df05f4",
   "metadata": {},
   "source": [
    "<a id='Quest'></a>\n",
    "## **Questions:**\n",
    "\n",
    "\n",
    "**1. Who is the best sales representative regarding total sales amount?**\n",
    "\n",
    "**2. What is the country that has the highest total sales amount (TOP 5)?**\n",
    "\n",
    "**3. Who is the Artist that has the most count of Sold tracks for each genre and their counts?**\n",
    "\n",
    "**4. What is the media type that has the highest total sales amount?**\n",
    "\n"
   ]
  },
  {
   "cell_type": "code",
   "execution_count": 10,
   "id": "118621c1",
   "metadata": {},
   "outputs": [],
   "source": [
    "from sqlalchemy import create_engine\n",
    "import pandas as pd\n",
    "import numpy as np\n",
    "import matplotlib.pyplot as plt\n",
    "import seaborn as sns\n",
    "%matplotlib inline"
   ]
  },
  {
   "cell_type": "code",
   "execution_count": 2,
   "id": "94317274",
   "metadata": {},
   "outputs": [],
   "source": [
    "## Create engine\n",
    "\n",
    "engine = create_engine(\"sqlite:///chinook.db\")\n",
    "con = engine.connect()"
   ]
  },
  {
   "cell_type": "code",
   "execution_count": 5,
   "id": "2b3cccba",
   "metadata": {},
   "outputs": [],
   "source": [
    "## Make query\n",
    "\n",
    "query1 = \"\"\"\n",
    "\n",
    "SELECT \n",
    "    (emp.FirstName  || ' ' || emp.LastName )as Employee_Name,\n",
    "     SUM( inv.total) as total_sales\n",
    "FROM\n",
    "    Customer as cst\n",
    "JOIN\n",
    "    Invoice as inv\n",
    "ON\n",
    "    cst.CustomerId = inv.CustomerId\n",
    "JOIN\n",
    "    Employee as emp\n",
    "ON\n",
    "    emp.EmployeeId = cst.SupportRepId\n",
    "GROUP BY 1\n",
    "ORDER BY 2 desc\n",
    "\n",
    "\"\"\""
   ]
  },
  {
   "cell_type": "code",
   "execution_count": 6,
   "id": "5df7a340",
   "metadata": {},
   "outputs": [
    {
     "data": {
      "text/html": [
       "<div>\n",
       "<style scoped>\n",
       "    .dataframe tbody tr th:only-of-type {\n",
       "        vertical-align: middle;\n",
       "    }\n",
       "\n",
       "    .dataframe tbody tr th {\n",
       "        vertical-align: top;\n",
       "    }\n",
       "\n",
       "    .dataframe thead th {\n",
       "        text-align: right;\n",
       "    }\n",
       "</style>\n",
       "<table border=\"1\" class=\"dataframe\">\n",
       "  <thead>\n",
       "    <tr style=\"text-align: right;\">\n",
       "      <th></th>\n",
       "      <th>Employee_Name</th>\n",
       "      <th>total_sales</th>\n",
       "    </tr>\n",
       "  </thead>\n",
       "  <tbody>\n",
       "    <tr>\n",
       "      <th>0</th>\n",
       "      <td>Jane Peacock</td>\n",
       "      <td>833.04</td>\n",
       "    </tr>\n",
       "    <tr>\n",
       "      <th>1</th>\n",
       "      <td>Margaret Park</td>\n",
       "      <td>775.40</td>\n",
       "    </tr>\n",
       "    <tr>\n",
       "      <th>2</th>\n",
       "      <td>Steve Johnson</td>\n",
       "      <td>720.16</td>\n",
       "    </tr>\n",
       "  </tbody>\n",
       "</table>\n",
       "</div>"
      ],
      "text/plain": [
       "   Employee_Name  total_sales\n",
       "0   Jane Peacock       833.04\n",
       "1  Margaret Park       775.40\n",
       "2  Steve Johnson       720.16"
      ]
     },
     "execution_count": 6,
     "metadata": {},
     "output_type": "execute_result"
    }
   ],
   "source": [
    "# Load data from database\n",
    "\n",
    "df_1 = pd.read_sql(query1, engine)\n",
    "df_1"
   ]
  },
  {
   "cell_type": "code",
   "execution_count": 11,
   "id": "5f4c53fb",
   "metadata": {},
   "outputs": [
    {
     "data": {
      "text/plain": [
       "<AxesSubplot:xlabel='Employee_Name', ylabel='total_sales'>"
      ]
     },
     "execution_count": 11,
     "metadata": {},
     "output_type": "execute_result"
    },
    {
     "data": {
      "image/png": "[encoded data removed]",
      "text/plain": [
       "<Figure size 432x288 with 1 Axes>"
      ]
     },
     "metadata": {
      "needs_background": "light"
     },
     "output_type": "display_data"
    }
   ],
   "source": [
    "# Plot data\n",
    "\n",
    "sns.barplot(x = \"Employee_Name\", y=\"total_sales\",data=df_1);"
   ]
  },
  {
   "cell_type": "markdown",
   "id": "769ae3b4",
   "metadata": {},
   "source": [
    "### Question 1\n",
    "\n",
    "**1. Who is the best sales representative regarding total sales amount?**\n",
    "\n",
    "\n",
    "### Answer\n",
    "\n",
    "**Jane Peacock is the best sales representative with total sales 833.04 USD**"
   ]
  },
  {
   "cell_type": "code",
   "execution_count": 12,
   "id": "3870c20d",
   "metadata": {},
   "outputs": [],
   "source": [
    "## Make query\n",
    "\n",
    "query2 = \"\"\"\n",
    "\n",
    "SELECT  \n",
    "    cst.Country as country,\n",
    "    SUM(inv.total) as total_sales\n",
    "FROM\n",
    "    Customer as cst\n",
    "JOIN\n",
    "    Invoice as inv\n",
    "ON\n",
    "    cst.CustomerId = inv.CustomerId\n",
    "GROUP BY 1\n",
    "ORDER BY 2 desc\n",
    "LIMIT 5\n",
    "\n",
    "\n",
    "\"\"\""
   ]
  },
  {
   "cell_type": "code",
   "execution_count": 13,
   "id": "f88b78ad",
   "metadata": {},
   "outputs": [
    {
     "data": {
      "text/html": [
       "<div>\n",
       "<style scoped>\n",
       "    .dataframe tbody tr th:only-of-type {\n",
       "        vertical-align: middle;\n",
       "    }\n",
       "\n",
       "    .dataframe tbody tr th {\n",
       "        vertical-align: top;\n",
       "    }\n",
       "\n",
       "    .dataframe thead th {\n",
       "        text-align: right;\n",
       "    }\n",
       "</style>\n",
       "<table border=\"1\" class=\"dataframe\">\n",
       "  <thead>\n",
       "    <tr style=\"text-align: right;\">\n",
       "      <th></th>\n",
       "      <th>country</th>\n",
       "      <th>total_sales</th>\n",
       "    </tr>\n",
       "  </thead>\n",
       "  <tbody>\n",
       "    <tr>\n",
       "      <th>0</th>\n",
       "      <td>USA</td>\n",
       "      <td>523.06</td>\n",
       "    </tr>\n",
       "    <tr>\n",
       "      <th>1</th>\n",
       "      <td>Canada</td>\n",
       "      <td>303.96</td>\n",
       "    </tr>\n",
       "    <tr>\n",
       "      <th>2</th>\n",
       "      <td>France</td>\n",
       "      <td>195.10</td>\n",
       "    </tr>\n",
       "    <tr>\n",
       "      <th>3</th>\n",
       "      <td>Brazil</td>\n",
       "      <td>190.10</td>\n",
       "    </tr>\n",
       "    <tr>\n",
       "      <th>4</th>\n",
       "      <td>Germany</td>\n",
       "      <td>156.48</td>\n",
       "    </tr>\n",
       "  </tbody>\n",
       "</table>\n",
       "</div>"
      ],
      "text/plain": [
       "   country  total_sales\n",
       "0      USA       523.06\n",
       "1   Canada       303.96\n",
       "2   France       195.10\n",
       "3   Brazil       190.10\n",
       "4  Germany       156.48"
      ]
     },
     "execution_count": 13,
     "metadata": {},
     "output_type": "execute_result"
    }
   ],
   "source": [
    "# Load data from database\n",
    "\n",
    "df_2 = pd.read_sql(query2, engine)\n",
    "df_2"
   ]
  },
  {
   "cell_type": "code",
   "execution_count": 14,
   "id": "04c16f8b",
   "metadata": {},
   "outputs": [
    {
     "data": {
      "image/png": "[encoded data removed]",
      "text/plain": [
       "<Figure size 432x288 with 1 Axes>"
      ]
     },
     "metadata": {
      "needs_background": "light"
     },
     "output_type": "display_data"
    }
   ],
   "source": [
    "# Plot data\n",
    "\n",
    "sns.barplot(x = \"country\", y=\"total_sales\",data=df_2);"
   ]
  },
  {
   "cell_type": "markdown",
   "id": "3a936283",
   "metadata": {},
   "source": [
    "### Question 2\n",
    "\n",
    "**2. What is the country that has the highest total sales amount (TOP 5)?**\n",
    "\n",
    "### Answer\n",
    "\n",
    "**USA is the country which has the highest total sales with 523.06 USD. Canada comes in the second place with 303.96 USD. France in the third place with 195.1 USD.**"
   ]
  },
  {
   "cell_type": "code",
   "execution_count": 15,
   "id": "e4dc927d",
   "metadata": {},
   "outputs": [],
   "source": [
    "## Make query\n",
    "\n",
    "query3 = \"\"\"\n",
    "\n",
    "WITH t1 AS\n",
    "  (SELECT \n",
    "      gen.Name AS genre_name,\n",
    "      art.Name AS artist_name,\n",
    "      COUNT(*) AS genre_count\n",
    "   FROM\n",
    "       Track AS tra\n",
    "   JOIN\n",
    "       Album AS alb ON alb.AlbumId = tra.AlbumId\n",
    "   JOIN\n",
    "       Artist AS art ON art.ArtistId = alb.AlbumId\n",
    "   JOIN\n",
    "       Genre AS gen ON gen.GenreId = tra.GenreId\n",
    "   JOIN\n",
    "       InvoiceLine AS invl ON invl.TrackId = tra.TrackId\n",
    "   GROUP BY 1,\n",
    "            2\n",
    "   ORDER BY 3 DESC),\n",
    "     t2 AS\n",
    "  (SELECT\n",
    "      t1.genre_name,\n",
    "      MAX (t1.genre_count) AS genre_max\n",
    "   FROM\n",
    "       t1\n",
    "   GROUP BY 1\n",
    "   ORDER BY 2 DESC)\n",
    "SELECT \n",
    "    (t1.artist_name || ' (' ||t1.genre_name|| ') ') AS genre_artist,\n",
    "    t1.genre_count\n",
    "FROM\n",
    "    t1\n",
    "JOIN\n",
    "    t2 \n",
    "ON\n",
    "    t1.genre_name = t2.genre_name\n",
    "AND t1.genre_count= t2.genre_max\n",
    "LIMIT 10\n",
    "\n",
    "\n",
    "\n",
    "\n",
    "\n",
    "\"\"\""
   ]
  },
  {
   "cell_type": "code",
   "execution_count": 16,
   "id": "3fadf7fb",
   "metadata": {},
   "outputs": [
    {
     "data": {
      "text/html": [
       "<div>\n",
       "<style scoped>\n",
       "    .dataframe tbody tr th:only-of-type {\n",
       "        vertical-align: middle;\n",
       "    }\n",
       "\n",
       "    .dataframe tbody tr th {\n",
       "        vertical-align: top;\n",
       "    }\n",
       "\n",
       "    .dataframe thead th {\n",
       "        text-align: right;\n",
       "    }\n",
       "</style>\n",
       "<table border=\"1\" class=\"dataframe\">\n",
       "  <thead>\n",
       "    <tr style=\"text-align: right;\">\n",
       "      <th></th>\n",
       "      <th>genre_artist</th>\n",
       "      <th>genre_count</th>\n",
       "    </tr>\n",
       "  </thead>\n",
       "  <tbody>\n",
       "    <tr>\n",
       "      <th>0</th>\n",
       "      <td>Frank Zappa &amp; Captain Beefheart (Latin)</td>\n",
       "      <td>27</td>\n",
       "    </tr>\n",
       "    <tr>\n",
       "      <th>1</th>\n",
       "      <td>Barry Wordsworth &amp; BBC Concert Orchestra (Alte...</td>\n",
       "      <td>22</td>\n",
       "    </tr>\n",
       "    <tr>\n",
       "      <th>2</th>\n",
       "      <td>Ed Motta (Rock)</td>\n",
       "      <td>20</td>\n",
       "    </tr>\n",
       "    <tr>\n",
       "      <th>3</th>\n",
       "      <td>Calexico (Sci Fi &amp; Fantasy)</td>\n",
       "      <td>18</td>\n",
       "    </tr>\n",
       "    <tr>\n",
       "      <th>4</th>\n",
       "      <td>Queen (Jazz)</td>\n",
       "      <td>17</td>\n",
       "    </tr>\n",
       "    <tr>\n",
       "      <th>5</th>\n",
       "      <td>Yehudi Menuhin (Pop)</td>\n",
       "      <td>16</td>\n",
       "    </tr>\n",
       "    <tr>\n",
       "      <th>6</th>\n",
       "      <td>Vinícius De Moraes (Blues)</td>\n",
       "      <td>15</td>\n",
       "    </tr>\n",
       "    <tr>\n",
       "      <th>7</th>\n",
       "      <td>Kiss (Bossa Nova)</td>\n",
       "      <td>15</td>\n",
       "    </tr>\n",
       "    <tr>\n",
       "      <th>8</th>\n",
       "      <td>Cidade Negra (Metal)</td>\n",
       "      <td>12</td>\n",
       "    </tr>\n",
       "    <tr>\n",
       "      <th>9</th>\n",
       "      <td>Lost (Metal)</td>\n",
       "      <td>12</td>\n",
       "    </tr>\n",
       "  </tbody>\n",
       "</table>\n",
       "</div>"
      ],
      "text/plain": [
       "                                        genre_artist  genre_count\n",
       "0           Frank Zappa & Captain Beefheart (Latin)            27\n",
       "1  Barry Wordsworth & BBC Concert Orchestra (Alte...           22\n",
       "2                                   Ed Motta (Rock)            20\n",
       "3                       Calexico (Sci Fi & Fantasy)            18\n",
       "4                                      Queen (Jazz)            17\n",
       "5                              Yehudi Menuhin (Pop)            16\n",
       "6                        Vinícius De Moraes (Blues)            15\n",
       "7                                 Kiss (Bossa Nova)            15\n",
       "8                              Cidade Negra (Metal)            12\n",
       "9                                      Lost (Metal)            12"
      ]
     },
     "execution_count": 16,
     "metadata": {},
     "output_type": "execute_result"
    }
   ],
   "source": [
    "# Load data from database\n",
    "\n",
    "df_3 = pd.read_sql(query3, engine)\n",
    "df_3"
   ]
  },
  {
   "cell_type": "code",
   "execution_count": 20,
   "id": "cf74c3d6",
   "metadata": {},
   "outputs": [
    {
     "data": {
      "image/png": "[encoded data removed]",
      "text/plain": [
       "<Figure size 432x288 with 1 Axes>"
      ]
     },
     "metadata": {
      "needs_background": "light"
     },
     "output_type": "display_data"
    }
   ],
   "source": [
    "# Plot data\n",
    "\n",
    "sns.barplot(y = \"genre_artist\", x=\"genre_count\",data=df_3);"
   ]
  },
  {
   "cell_type": "markdown",
   "id": "d11aa75f",
   "metadata": {},
   "source": [
    "### Quetion 3\n",
    "\n",
    "\n",
    "**3. Who is the Artist that has the most count of Sold tracks for each genre and their counts?**\n",
    "\n",
    "\n",
    "### Answer \n",
    "\n",
    "**Frank Zappa & Captain Beefheart is the top artist that has most count of sold tracks with 27 track in (Latin) genre. Barry Wordsworth & BBC Concert Orchestra comes in second place with 22 track in (Alternative & Punk) genre. Ed Motta is the third top artist.**"
   ]
  },
  {
   "cell_type": "code",
   "execution_count": 21,
   "id": "e15b8daf",
   "metadata": {},
   "outputs": [],
   "source": [
    "## Make query\n",
    "\n",
    "query4 = \"\"\"\n",
    "\n",
    "SELECT\n",
    "    media.Name as media_type,\n",
    "    SUM(invl.UnitPrice * invl.Quantity) total_sales\n",
    "FROM\n",
    "    Track as tra\n",
    "JOIN\n",
    "    InvoiceLine as invl\n",
    "ON\n",
    "    invl.TrackId = tra.TrackId\n",
    "JOIN\n",
    "    MediaType as media\n",
    "ON\n",
    "    media.MediaTypeId = tra.MediaTypeId\n",
    "GROUP BY 1\n",
    "ORDER BY 2 desc\n",
    "\n",
    "\n",
    "\"\"\""
   ]
  },
  {
   "cell_type": "code",
   "execution_count": 22,
   "id": "3b7206b1",
   "metadata": {},
   "outputs": [
    {
     "data": {
      "text/html": [
       "<div>\n",
       "<style scoped>\n",
       "    .dataframe tbody tr th:only-of-type {\n",
       "        vertical-align: middle;\n",
       "    }\n",
       "\n",
       "    .dataframe tbody tr th {\n",
       "        vertical-align: top;\n",
       "    }\n",
       "\n",
       "    .dataframe thead th {\n",
       "        text-align: right;\n",
       "    }\n",
       "</style>\n",
       "<table border=\"1\" class=\"dataframe\">\n",
       "  <thead>\n",
       "    <tr style=\"text-align: right;\">\n",
       "      <th></th>\n",
       "      <th>media_type</th>\n",
       "      <th>total_sales</th>\n",
       "    </tr>\n",
       "  </thead>\n",
       "  <tbody>\n",
       "    <tr>\n",
       "      <th>0</th>\n",
       "      <td>MPEG audio file</td>\n",
       "      <td>1956.24</td>\n",
       "    </tr>\n",
       "    <tr>\n",
       "      <th>1</th>\n",
       "      <td>Protected MPEG-4 video file</td>\n",
       "      <td>220.89</td>\n",
       "    </tr>\n",
       "    <tr>\n",
       "      <th>2</th>\n",
       "      <td>Protected AAC audio file</td>\n",
       "      <td>144.54</td>\n",
       "    </tr>\n",
       "    <tr>\n",
       "      <th>3</th>\n",
       "      <td>Purchased AAC audio file</td>\n",
       "      <td>3.96</td>\n",
       "    </tr>\n",
       "    <tr>\n",
       "      <th>4</th>\n",
       "      <td>AAC audio file</td>\n",
       "      <td>2.97</td>\n",
       "    </tr>\n",
       "  </tbody>\n",
       "</table>\n",
       "</div>"
      ],
      "text/plain": [
       "                    media_type  total_sales\n",
       "0              MPEG audio file      1956.24\n",
       "1  Protected MPEG-4 video file       220.89\n",
       "2     Protected AAC audio file       144.54\n",
       "3     Purchased AAC audio file         3.96\n",
       "4               AAC audio file         2.97"
      ]
     },
     "execution_count": 22,
     "metadata": {},
     "output_type": "execute_result"
    }
   ],
   "source": [
    "# Load data from database\n",
    "\n",
    "df_4 = pd.read_sql(query4, engine)\n",
    "df_4"
   ]
  },
  {
   "cell_type": "code",
   "execution_count": 62,
   "id": "f89c551d",
   "metadata": {},
   "outputs": [
    {
     "data": {
      "image/png": "[encoded data removed]",
      "text/plain": [
       "<Figure size 900x396 with 1 Axes>"
      ]
     },
     "metadata": {
      "needs_background": "light"
     },
     "output_type": "display_data"
    }
   ],
   "source": [
    "# Plot data\n",
    "\n",
    "sns.barplot(y = \"media_type\", x=\"total_sales\",data=df_4);"
   ]
  },
  {
   "cell_type": "markdown",
   "id": "e21368da",
   "metadata": {},
   "source": [
    "### Question 4\n",
    "\n",
    "\n",
    "**4. What is the media type that has the highest total sales amount?**\n",
    "\n",
    "### Answer \n",
    "\n",
    "**MPEG audio ﬁle media type has the highest total sales amount with 84 % percent from total sales.**\n",
    "\n",
    "\n",
    "**AAC audio ﬁle and Purchased AAC audio ﬁle media types comes in the last place with 0% percent from total sales.**"
   ]
  }
 ],
 "metadata": {
  "kernelspec": {
   "display_name": "Python 3 (ipykernel)",
   "language": "python",
   "name": "python3"
  },
  "language_info": {
   "codemirror_mode": {
    "name": "ipython",
    "version": 3
   },
   "file_extension": ".py",
   "mimetype": "text/x-python",
   "name": "python",
   "nbconvert_exporter": "python",
   "pygments_lexer": "ipython3",
   "version": "3.9.7"
  }
 },
 "nbformat": 4,
 "nbformat_minor": 5
}
